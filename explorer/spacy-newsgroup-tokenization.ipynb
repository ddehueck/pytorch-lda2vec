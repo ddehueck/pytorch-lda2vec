{
 "cells": [
  {
   "cell_type": "code",
   "execution_count": 1,
   "metadata": {},
   "outputs": [],
   "source": [
    "import spacy\n",
    "import re\n",
    "import sys\n",
    "import random\n",
    "sys.path.append(\"..\")\n",
    "\n",
    "from datasets.newsgroups import NewsgroupsDataset\n",
    "from train import get_args"
   ]
  },
  {
   "cell_type": "code",
   "execution_count": 5,
   "metadata": {},
   "outputs": [
    {
     "name": "stderr",
     "output_type": "stream",
     "text": [
      "\r",
      "  0%|          | 0/46 [00:00<?, ?it/s]"
     ]
    },
    {
     "name": "stdout",
     "output_type": "stream",
     "text": [
      "\n",
      "Using cleaned newsgroups data from scklearn...\n",
      "\n",
      "Generating Examples for Dataset (multi-threaded)...\n"
     ]
    },
    {
     "name": "stderr",
     "output_type": "stream",
     "text": [
      "100%|██████████| 46/46 [04:28<00:00,  2.37s/it]\n"
     ]
    }
   ],
   "source": [
    "\"\"\"\n",
    "Load dataset with custom arguments\n",
    "Note: May take a couple mins\n",
    "\"\"\"\n",
    "\n",
    "class args:\n",
    "    def __init__(self):\n",
    "        default_args = get_args()\n",
    "        \n",
    "        self.dataset_dir = '../data/'\n",
    "        self.toy = False\n",
    "        self.file_batch_size = default_args.file_batch_size\n",
    "        self.window_size = default_args.window_size\n",
    "        \n",
    "dataset = NewsgroupsDataset(args())"
   ]
  },
  {
   "cell_type": "code",
   "execution_count": 31,
   "metadata": {},
   "outputs": [
    {
     "name": "stdout",
     "output_type": "stream",
     "text": [
      "Tokenized Document:\n",
      "\n",
      "['andersomspot', 'colorado', 'edu', 'marcanderson', 'methods', 'year', 'crime', 'bill', 'teeth', 'bare', 'gums', 'clinton', 'said', 'particular', 'administration', 'place', 'strict', 'controls', 'data', 'formats', 'protocols', 'require', 'registration', 'called', 'cryptographic', 'keys', 'hope', 'denying', 'drug', 'dealers', 'ability', 'communicate', 'secret', 'clinton', 'said', 'approach', 'crackdowns', 'forms', 'underground', 'economic', 'activity', 'deficit', 'causing', 'tax', 'evaders', 'live', 'luxury', 'expense', 'grandchildren', 'people', 'thought', 'exaggerating', 'claiming', 'cripplechip', 'step', 'totalitarian', 'plot', 'civil', 'liberties', 'usa', 'optimist', 'things', 'happening', 'faster', 'expected', 'dirty', 'tricks', 'apply', 'communist', 'regime', 'secret', 'tell', 'people', 'fact', 'course', 'explaining', 'better', 'situation', 'previous', 'messages', 'wrote', 'americans', 'wake', 'fight', 'new', 'proposal', 'late', 'happened', 'civil', 'liberties', 'violated', 'stollen', 'american', 'people', 'people', 'sleeping', 'happily', 'sad', 'regards', 'vesselin']\n",
      "\n",
      "Random Document:\n",
      "\n",
      "andersom@spot.Colorado.EDU (Marc Anderson) writes:\n",
      "\n",
      "> methods.  ``This year's crime bill will have teeth, not bare gums,''\n",
      "> Clinton said.  In particular, his administration will place strict\n",
      "> controls on data formats and protocols, and require the registration\n",
      "> of so-called ``cryptographic keys,'' in the hope of denying drug\n",
      "> dealers the ability to communicate in secret.  Clinton said the\n",
      "> approach could be used for crackdowns on other forms of underground\n",
      "> economic activity, such as ``the deficit-causing tax evaders who\n",
      "> live in luxury at the expense of our grandchildren.''\n",
      "\n",
      "And some people thought that I am exaggerating when claiming that the\n",
      "Cripple Chip is just a first step in a totalitarian plot against the\n",
      "civil liberties in the USA... It seems that I've even been an optimist\n",
      "- the things are happening even faster than I expected.... That's\n",
      "another of the dirty tricks they used to apply on us under the\n",
      "communist regime - do something secret, THEN tell the people about is\n",
      "(after the fact, when nothing can be done any more), and of course,\n",
      "explaining them how much better the situation is now...\n",
      "\n",
      "In my previous messages I wrote that the Americans should wake up and\n",
      "fight against the new proposal. Now it seems to me that it is already\n",
      "too late - it has already happened, the civil liberties have been\n",
      "violated, no, stollen from the American people, while the most part of\n",
      "this people has been sleeping happily... :-((( Too sad...\n",
      "\n",
      "Regards,\n",
      "Vesselin\n"
     ]
    }
   ],
   "source": [
    "\"\"\"\n",
    "View a random file's tokenization\n",
    "\"\"\"\n",
    "\n",
    "rand_doc = random.choice(dataset.files)\n",
    "tokenized_doc = dataset.tokenizer.tokenize_doc(rand_doc)\n",
    "\n",
    "print(f'Tokenized Document:\\n\\n{tokenized_doc}')\n",
    "print(f'\\nRandom Document:\\n\\n{rand_doc}')"
   ]
  },
  {
   "cell_type": "code",
   "execution_count": null,
   "metadata": {},
   "outputs": [],
   "source": []
  },
  {
   "cell_type": "code",
   "execution_count": null,
   "metadata": {},
   "outputs": [],
   "source": []
  }
 ],
 "metadata": {
  "kernelspec": {
   "display_name": "Python 3",
   "language": "python",
   "name": "python3"
  },
  "language_info": {
   "codemirror_mode": {
    "name": "ipython",
    "version": 3
   },
   "file_extension": ".py",
   "mimetype": "text/x-python",
   "name": "python",
   "nbconvert_exporter": "python",
   "pygments_lexer": "ipython3",
   "version": "3.7.3"
  }
 },
 "nbformat": 4,
 "nbformat_minor": 2
}
