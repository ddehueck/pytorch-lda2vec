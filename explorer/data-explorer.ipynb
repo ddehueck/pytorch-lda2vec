{
 "cells": [
  {
   "cell_type": "code",
   "execution_count": 20,
   "metadata": {},
   "outputs": [],
   "source": [
    "import torch\n",
    "import seaborn as sns\n",
    "import numpy as np\n",
    "import pandas as pd\n",
    "import matplotlib.pyplot as plt\n",
    "sns.set(color_codes=True)\n",
    "%matplotlib inline\n",
    "# Use datasets/datasets.py methods in this"
   ]
  },
  {
   "cell_type": "code",
   "execution_count": 21,
   "metadata": {},
   "outputs": [],
   "source": [
    "# Metrics to visualize\n",
    "# - Most frequent words\n",
    "# - Least frequent words\n",
    "# - Document Distribution\n",
    "#   - Length"
   ]
  },
  {
   "cell_type": "code",
   "execution_count": 22,
   "metadata": {},
   "outputs": [
    {
     "name": "stdout",
     "output_type": "stream",
     "text": [
      "dict_keys(['examples', 'idx2doc', 'term_freq_dict'])\n"
     ]
    }
   ],
   "source": [
    "# Load dataset\n",
    "# Load saved data\n",
    "dataset = torch.load('dataset.pth')\n",
    "print(dataset.keys())"
   ]
  },
  {
   "cell_type": "code",
   "execution_count": 23,
   "metadata": {},
   "outputs": [
    {
     "data": {
      "text/plain": [
       "26095086"
      ]
     },
     "execution_count": 23,
     "metadata": {},
     "output_type": "execute_result"
    }
   ],
   "source": [
    "len(dataset['examples'])"
   ]
  },
  {
   "cell_type": "code",
   "execution_count": 32,
   "metadata": {},
   "outputs": [],
   "source": [
    "clean_dict = dataset['term_freq_dict']\n",
    "\n",
    "blacklist = ['to', 'that', 'for', 'you', 'be', 'have', 'are',\\\n",
    "             'not', 'with', 'was', 'the', 'of', 'a', 'and', 'i',\\\n",
    "             'is', 'it', 'on', 'this', 'i', 'in','as','or','do','if',\\\n",
    "             'can','an','there','would','what','will','my','we','all',\\\n",
    "             'one''but','they','from','by','at', 'one','he', 'about',\\\n",
    "             'has','so','your', 'any', 'no', 'who', 'me', 'which', '_',\\\n",
    "            's', 'nt', 'but']\n",
    "\n",
    "for b in blacklist:\n",
    "    try:\n",
    "        del clean_dict[b]\n",
    "    except:\n",
    "        pass\n",
    "\n",
    "vocab = list(clean_dict.keys())\n",
    "freq = list(clean_dict.values())"
   ]
  },
  {
   "cell_type": "code",
   "execution_count": 36,
   "metadata": {},
   "outputs": [
    {
     "data": {
      "image/png": "[encoded data removed]",
      "text/plain": [
       "<Figure size 432x288 with 1 Axes>"
      ]
     },
     "metadata": {
      "needs_background": "light"
     },
     "output_type": "display_data"
    },
    {
     "name": "stdout",
     "output_type": "stream",
     "text": [
      ",'writes','article','x','some','out','people','like','does','were','when','their','just','more','other','m','up','know','how','get','them','had','only','his','been','think','also','than','use','time','then','could','should','did','these','maxaxaxaxaxaxaxaxaxaxaxaxaxaxax','well','good','because','am','even','very','us','now','may','into','why','see','much','way','most','make','such','many','god','first','d','right','new','here','those','where','say','ve','want','two','system','being','re','used','our','anyone','said','its','same','after','over','something','need','too','problem','work','really','go','him','since','off','back','believe','going','ca','still','file','please','using','find','take','point','before','must','while','both','better','things','information','ll','might','government','sure','never','question','without','number','got','thanks','bit','etc','another','made','own','help','through','read','program','down','someone','available','let','under','b','windows','thing','case','key','part','drive','come','look','however','long','power','data','law','little','fact','anything','between','each','mail','c','around','probably','true','again','give','seems','tell','different','set','course','best','name','she','against','put','lot','world','enough','car','actually','try','every','says','run','far','either','possible','line','though','called','real','e','hard','rather','her','game','list','space','high','great','mean','life','q','team','second','nothing','state','example','few','jesus','software','support','wrong','post','done','based','reason','having','found','end','mr','keep','yes','send','files','w','able','window','public','gv','person','call','order','card','least','version','else','following','maybe','others','problems','group','bad','thought','free','above','doing','looking','k','gun','subject','place','seen','trying','always','left','gr','heard','wrote','non','means','quite','old','man','given','yet','israel','ever','less','last','note','idea','away','whether','getting','start','during','chip','email','seem','general','times','already','r','once','dos','kind','play','control','current','until','evidence','computer','source','makes','several','money','jews','perhaps','scsi','code','big','remember','v','issue','disk','today','president','ask','told','small','book','large','mb','human','children','change','answer','local','questions','info','came','running','speed','whole','pretty','home','image','games','o','pc','encryption','three','day','interested','saying','standard','word','works','hope','full','price','hand','went','bible','show','stuff','side','type','memory','buy','christian','p','message','important','next','including','live','cost','access','matter','often','rights','address','feel','wo','simply','agree','comes','everything','t','original','everyone','open','db','server','working','win','year','although','posting','phone','understand','systems','started','claim','certainly','instead','cause','provide','ie','sun','mac','include','color','anybody','known','n','consider','ftp','machine','almost','low','guess','check','anyway','tried','programs','package','making','similar','write','edu','care','truth','israeli','certain','took','display','graphics','men','country','likely','christians','area','difference','unless','sort','mind','armenian','argument','numbers','news','armenians','science','usually','size','correct','keys','single','video','talking','years','hi','players','faith','exactly','within','nice','internet','com','later','american','period','level','saw','per','religion','experience','history','themselves','screen','application','hell','uses','especially','body','driver','april','killed','hardware','pay','deal','top','simple','thus','groups','love','sense','net','asked','contact','reading','clear','police','death','fast','oh','points','fine','vs','exist','goes','except','major','common','words','particular','stop','earth','value','lines','copy','among','war','sorry','taken','short','user','private','via','posted','turn','written','turkish','bike','rate','position','therefore','wanted','runs','faq','head','drivers','interesting','whatever','fire','hear','hit','security','become','self','discussion','rest','happened','pub','strong','women','third','gets','sound','easy','ok','laws','bus','situation','light','date','build','mode','technology','ones','g','church','itself','th','built','ms','advance','view','military','jewish','opinion','output','face','add','assume','myself','board','due','needs','cars','anonymous','statement','drives','return','sell','front','weapons','dead','section','ground','effect','form','guns','includes','future','recently','looks','job','friend','talk','service','considered','kill','force','sometimes','entry','crime','text','upon','monitor','f','error','soon','cases','test','process','season','further','cd','religious','offer','model','christ','happen','allow','business','behind','black','guy','according','books','taking','specific','hockey','move','along','purpose','coming','accept','result','lost','study','near','format','research','legal','mentioned','personal','users','necessary','states','apple','couple','clipper','together','box','company','members','moral','himself','various','rules','controller','mhz','needed','involved','worth','special','thinking','currently','parts','total','directory','defense','expect','present','nor','sent','close','act','action','appreciated','previous','privacy','cut','house','outside','z','knows','fax','response','population','related','political','water','otherwise','knowledge','longer','land','included','clearly','device','l','sale','player','eg','leave','building','cover','mine','deleted','hold','save','reply','manager','press','comments','white','story','create','quality','cards','images','clinton','food','performance','plus','existence','willing','interface','yourself','explain','ram','doubt','unix','reference','average','motif','widget','teams','fbi','serious','series','mouse','figure','completely','term','site','anti','follow','results','details','goal','product','below','higher','father','serial','peace','interest','living','market','league','carry','stephanopoulos','health','record','asking','society','shall','newsgroup','wants','sources','tv','created','four','algorithm','main','indeed','function','insurance','required','protect','objective','looked','chance','ibm','tape','christianity','inside','family','apr','opinions','city','young','gas','takes','bought','report','engine','reasons','individual','complete','suggest','network','easily','none','national','amount','basic','condition','past','input','launch','bill','nasa','sounds','air','canada','normal','la','administration','gave','applications','shot','baseball','machines','st','os','finally','appears','design','h','designed','attack','theory','belief','road','final','court','avoid','base','reasonable','choice','issues','bits','obviously','early','received','gives','die','tax','devices','require','places','turkey','thank','ideas','commercial','useful','wish','nature','language','class','xr','supposed','lots','decided','port','unfortunately','continue','solution','unit','enforcement','generally','break','claims','plan','blood','arab','federal','faster','limited','release','difficult','school','chips','citizens','dr','directly','extra','arms','worse','wondering','usa','obvious','basis','mention','secure','media','russian','apparently','keyboard','nhl','secret','values','excellent','son','exists','policy','child','y','pick','greek','u','knew','command','organization','entire','imagine','somebody','paper','changed','page','allowed','cable','radio','ide','event','modem','installed','folks','terms','gm','scientific','whose','safety','medical','giving','bring','wait','center','forget','learn','technical','btw','alone','published','escrow','development','field','lower','project','events','happens','rom','john','title','ways','approach','million','firearms','lives','meaning','prove','des','addition','areas','appreciate','atheists','manual','shipping','names','range','stupid','across','mass','worked','voice','neither','happy','congress','trust','driving','context','appropriate','nsa','freedom','supply','library','method','stated','archive','author','actions','msg','authority','possibly','companies','internal','drug','effective','basically','wonder','watch','stand','recent','majority','brought','printer','lack','room','morality','lastyear','comment','days','died','switch','natural'\n"
     ]
    }
   ],
   "source": [
    "# sort your values in descending order\n",
    "indSort = np.argsort(freq)[::-1]\n",
    "\n",
    "# rearrange your data\n",
    "labels = np.array(vocab)[indSort][:1000]\n",
    "values = np.array(freq)[indSort][:1000]\n",
    "\n",
    "indexes = np.arange(len(labels))\n",
    "\n",
    "bar_width = 0.56\n",
    "\n",
    "plt.bar(indexes, values)\n",
    "\n",
    "# add labels\n",
    "plt.xticks(indexes , labels)\n",
    "plt.show()\n",
    "str = \"\"\n",
    "for l in labels:\n",
    "    str += f\",'{l}'\"\n",
    "print(str)"
   ]
  },
  {
   "cell_type": "code",
   "execution_count": null,
   "metadata": {},
   "outputs": [],
   "source": []
  }
 ],
 "metadata": {
  "kernelspec": {
   "display_name": "Python 3",
   "language": "python",
   "name": "python3"
  },
  "language_info": {
   "codemirror_mode": {
    "name": "ipython",
    "version": 3
   },
   "file_extension": ".py",
   "mimetype": "text/x-python",
   "name": "python",
   "nbconvert_exporter": "python",
   "pygments_lexer": "ipython3",
   "version": "3.7.3"
  }
 },
 "nbformat": 4,
 "nbformat_minor": 2
}
