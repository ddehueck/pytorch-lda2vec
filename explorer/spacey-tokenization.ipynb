{
 "cells": [
  {
   "cell_type": "code",
   "execution_count": 1,
   "metadata": {},
   "outputs": [],
   "source": [
    "import spacy\n",
    "import re\n",
    "import sys\n",
    "import random\n",
    "sys.path.append(\"..\")\n",
    "\n",
    "from datasets.newsgroups import NewsgroupsDataset\n",
    "from train import get_args"
   ]
  },
  {
   "cell_type": "code",
   "execution_count": 5,
   "metadata": {},
   "outputs": [
    {
     "name": "stderr",
     "output_type": "stream",
     "text": [
      "\r",
      "  0%|          | 0/46 [00:00<?, ?it/s]"
     ]
    },
    {
     "name": "stdout",
     "output_type": "stream",
     "text": [
      "\n",
      "Using cleaned newsgroups data from scklearn...\n",
      "\n",
      "Generating Examples for Dataset (multi-threaded)...\n"
     ]
    },
    {
     "name": "stderr",
     "output_type": "stream",
     "text": [
      "100%|██████████| 46/46 [04:28<00:00,  2.37s/it]\n"
     ]
    }
   ],
   "source": [
    "\"\"\"\n",
    "Load dataset with custom arguments\n",
    "Note: May take a couple mins\n",
    "\"\"\"\n",
    "\n",
    "class args:\n",
    "    def __init__(self):\n",
    "        default_args = get_args()\n",
    "        \n",
    "        self.dataset_dir = '../data/'\n",
    "        self.toy = False\n",
    "        self.file_batch_size = default_args.file_batch_size\n",
    "        self.window_size = default_args.window_size\n",
    "        \n",
    "dataset = NewsgroupsDataset(args())"
   ]
  },
  {
   "cell_type": "code",
   "execution_count": 10,
   "metadata": {},
   "outputs": [
    {
     "name": "stdout",
     "output_type": "stream",
     "text": [
      "Tokenized Document:\n",
      "\n",
      "['posting', 'friend', 'runs', 'bbs', 'sure', 'dos', 'windows', 'interested', 'board', 'ports', 'post', 'suggeted', 'digiboard', 'info', 'information', 'boards', 'know', 'mentioned', 'configuration', 'models', 'specifications', 'prices', 'manufacturers', 'thanks', 'rob']\n",
      "\n",
      "Random Document:\n",
      "\n",
      "I'm posting this for a friend that runs a BBS. I'm not sure if its under\n",
      "DOS or Windows.\n",
      "\n",
      "He is interested in a board that has 16 ports on it. In another post,\n",
      "someone suggeted a DigiBoard, but didn't have too much info on it.\n",
      "\n",
      "Could someone give me information on any boards that they know of with\n",
      "the before mentioned configuration. Models. Specifications. Prices.\n",
      " Manufacturers.\n",
      "\n",
      "Thanks,\n",
      "\n",
      "Rob\n",
      "\n",
      "--\n"
     ]
    }
   ],
   "source": [
    "\"\"\"\n",
    "View a random file's tokenization\n",
    "\"\"\"\n",
    "\n",
    "rand_doc = random.choice(dataset.files)\n",
    "tokenized_doc = dataset.tokenizer.tokenize_doc(rand_doc)\n",
    "\n",
    "print(f'Tokenized Document:\\n\\n{tokenized_doc}')\n",
    "print(f'\\nRandom Document:\\n\\n{rand_doc}')"
   ]
  },
  {
   "cell_type": "code",
   "execution_count": null,
   "metadata": {},
   "outputs": [],
   "source": []
  }
 ],
 "metadata": {
  "kernelspec": {
   "display_name": "Python 3",
   "language": "python",
   "name": "python3"
  },
  "language_info": {
   "codemirror_mode": {
    "name": "ipython",
    "version": 3
   },
   "file_extension": ".py",
   "mimetype": "text/x-python",
   "name": "python",
   "nbconvert_exporter": "python",
   "pygments_lexer": "ipython3",
   "version": "3.7.3"
  }
 },
 "nbformat": 4,
 "nbformat_minor": 2
}
